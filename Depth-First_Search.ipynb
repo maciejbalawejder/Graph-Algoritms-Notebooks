{
 "cells": [
  {
   "cell_type": "markdown",
   "id": "saved-morris",
   "metadata": {},
   "source": [
    "# DEPTH FIRST SEARCH "
   ]
  },
  {
   "cell_type": "code",
   "execution_count": 42,
   "id": "contrary-fifth",
   "metadata": {},
   "outputs": [],
   "source": [
    "class node: \n",
    "    def __init__(self,name): \n",
    "        self.name = name\n",
    "        self.checked = False\n",
    "        self.nbr = []\n",
    "        \n",
    "# Recursive method\n",
    "def dfs(first):\n",
    "    queue = [first]\n",
    "    first.checked = True\n",
    "    print(first.name)\n",
    "    if first.nbr:\n",
    "        for i in first.nbr:\n",
    "            dfs(i)\n",
    "\n",
    "# Loop method\n",
    "def DFS(first):\n",
    "    queue = [first]\n",
    "    \n",
    "    while queue:\n",
    "        node = queue.pop()\n",
    "        node.checked = True \n",
    "        print(node.name)\n",
    "        \n",
    "        for i in node.nbr:\n",
    "            if i.checked == False:\n",
    "                queue.append(i)\n",
    "                \n",
    "            \n",
    "            "
   ]
  },
  {
   "cell_type": "code",
   "execution_count": 45,
   "id": "manufactured-treasure",
   "metadata": {
    "scrolled": true
   },
   "outputs": [
    {
     "name": "stdout",
     "output_type": "stream",
     "text": [
      "LOOP:\n",
      "A\n",
      "G\n",
      "H\n",
      "F\n",
      "B\n",
      "D\n",
      "C\n",
      "RECURSIVE:\n",
      "A\n",
      "B\n",
      "C\n",
      "D\n",
      "F\n",
      "G\n",
      "H\n"
     ]
    }
   ],
   "source": [
    "'''\n",
    "EXAMPLE\n",
    "                A\n",
    "              _/|\\_\n",
    "            _/  |  \\_\n",
    "           /    F    \\\n",
    "          B           G\n",
    "         / \\         /\n",
    "        C   D       H\n",
    "'''\n",
    "A = node('A')\n",
    "B = node('B')\n",
    "C = node('C')\n",
    "D = node('D')\n",
    "E = node('E')\n",
    "F = node('F')\n",
    "G = node('G')\n",
    "H = node('H')\n",
    "A.nbr.append(B)\n",
    "A.nbr.append(F)\n",
    "A.nbr.append(G)\n",
    "B.nbr.append(C)\n",
    "B.nbr.append(D)\n",
    "G.nbr.append(H)\n",
    "print('LOOP:')\n",
    "DFS(A)\n",
    "print('RECURSIVE:')\n",
    "dfs(A)"
   ]
  }
 ],
 "metadata": {
  "kernelspec": {
   "display_name": "Python 3",
   "language": "python",
   "name": "python3"
  },
  "language_info": {
   "codemirror_mode": {
    "name": "ipython",
    "version": 3
   },
   "file_extension": ".py",
   "mimetype": "text/x-python",
   "name": "python",
   "nbconvert_exporter": "python",
   "pygments_lexer": "ipython3",
   "version": "3.8.0"
  }
 },
 "nbformat": 4,
 "nbformat_minor": 5
}

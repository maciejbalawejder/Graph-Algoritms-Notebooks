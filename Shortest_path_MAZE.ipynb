{
 "cells": [
  {
   "cell_type": "code",
   "execution_count": 31,
   "id": "2da4169f",
   "metadata": {},
   "outputs": [
    {
     "name": "stdout",
     "output_type": "stream",
     "text": [
      "[(0, 0, 0)]\n",
      "[(0, 1, 1)]\n",
      "[(0, 2, 2), (1, 1, 2)]\n",
      "[(1, 1, 2), (0, 3, 3), (1, 2, 3)]\n",
      "[(0, 3, 3), (1, 2, 3)]\n",
      "[(1, 2, 3), (0, 4, 4), (1, 3, 4)]\n",
      "[(0, 4, 4), (1, 3, 4)]\n",
      "[(1, 3, 4), (1, 4, 5)]\n",
      "[(1, 4, 5)]\n",
      "[(2, 4, 6)]\n",
      "[(3, 4, 7)]\n",
      "[(3, 3, 8), (4, 4, 8)]\n",
      "[(4, 4, 8), (3, 2, 9), (4, 3, 9)]\n",
      "8\n"
     ]
    },
    {
     "data": {
      "text/plain": [
       "[[True, True, True, True, True],\n",
       " [False, True, True, True, True],\n",
       " [False, False, False, False, True],\n",
       " [False, False, True, True, True],\n",
       " [False, False, False, True, True]]"
      ]
     },
     "execution_count": 31,
     "metadata": {},
     "output_type": "execute_result"
    }
   ],
   "source": [
    "maze =[[1, 1, 1, 1, 1],\n",
    "       [0, 1, 1, 1, 1],\n",
    "       [0, 0, 0, 0, 1],\n",
    "       [1, 0, 1, 1, 1],\n",
    "       [0, 0, 0, 1, 1]]\n",
    "\n",
    "class solver: \n",
    "    def __init__(self, maze, x_start, y_start, x_end, y_end):\n",
    "        self.maze = maze\n",
    "        self.checker = [[False for _ in range(len(self.maze))] for j in range(len(self.maze))]\n",
    "        self.move_x = [-1, 0, 0, 1]\n",
    "        self.move_y = [0, -1, 1, 0]\n",
    "        self.x_s = x_start\n",
    "        self.y_s = y_start\n",
    "        self.x_e = x_end\n",
    "        self.y_e = y_end\n",
    "        self.queue = [(self.x_s, self.y_s, 0)]\n",
    "        self.checker[self.x_s][self.y_s] = True\n",
    "    \n",
    "    def is_valid(self, x, y):\n",
    "        if x < 0 or y < 0 or x > len(self.maze)-1 or y > len(self.maze)-1:\n",
    "            return False\n",
    "        \n",
    "        elif self.maze[x][y] == 0:\n",
    "            return False\n",
    "        \n",
    "        \n",
    "        elif self.checker[x][y] == True:\n",
    "            return False\n",
    "        \n",
    "        \n",
    "        return True \n",
    "    \n",
    "    def bfs(self):\n",
    "        done = False\n",
    "        \n",
    "        while len(self.queue) > 0 and done == False:\n",
    "            print(self.queue)\n",
    "            cx,cy,dis = self.queue.pop(0)\n",
    "            if cx == self.x_e and cy == self.y_e: \n",
    "                print(dis)\n",
    "                break \n",
    "                done = True\n",
    "            for i in range(len(self.move_x)):\n",
    "                dx, dy = self.move_x[i], self.move_y[i]\n",
    "                if self.is_valid(cx + dx,cy + dy):\n",
    "                    self.checker[cx + dx][cy + dy] = True \n",
    "                    self.queue.append((cx + dx, cy + dy, dis+1))\n",
    "            \n",
    "            \n",
    "solver = solver(maze,0,0,4,4)\n",
    "solver.bfs()\n",
    "solver.checker"
   ]
  },
  {
   "cell_type": "code",
   "execution_count": null,
   "id": "9dce18f0",
   "metadata": {},
   "outputs": [],
   "source": []
  }
 ],
 "metadata": {
  "kernelspec": {
   "display_name": "Python 3",
   "language": "python",
   "name": "python3"
  },
  "language_info": {
   "codemirror_mode": {
    "name": "ipython",
    "version": 3
   },
   "file_extension": ".py",
   "mimetype": "text/x-python",
   "name": "python",
   "nbconvert_exporter": "python",
   "pygments_lexer": "ipython3",
   "version": "3.8.6"
  }
 },
 "nbformat": 4,
 "nbformat_minor": 5
}

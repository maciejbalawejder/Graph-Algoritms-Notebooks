{
 "cells": [
  {
   "cell_type": "markdown",
   "id": "unauthorized-shell",
   "metadata": {},
   "source": [
    "# BREADTH FIRST SEARCH"
   ]
  },
  {
   "cell_type": "code",
   "execution_count": 77,
   "id": "generous-philippines",
   "metadata": {},
   "outputs": [],
   "source": [
    "class node: \n",
    "    def __init__(self, name):\n",
    "        self.name = name\n",
    "        self.nabr = []\n",
    "        self.checked = False\n",
    "\n",
    "def breadth_first_search(first_item):\n",
    "    queue = [first_item]\n",
    "    i = 0 \n",
    "    while queue:\n",
    "        print('Iteration: {}, Queue: {}'.format(i, [i.name for i in queue]))\n",
    "        actual_node = queue.pop(0)\n",
    "        actual_node.checked = True\n",
    "        for node in actual_node.nabr:\n",
    "            if node.checked == False: \n",
    "                queue.append(node)            \n",
    "        i+=1"
   ]
  },
  {
   "cell_type": "code",
   "execution_count": 78,
   "id": "middle-great",
   "metadata": {
    "scrolled": true
   },
   "outputs": [
    {
     "name": "stdout",
     "output_type": "stream",
     "text": [
      "Iteration: 0, Queue: ['A']\n",
      "Iteration: 1, Queue: ['B', 'F', 'G']\n",
      "Iteration: 2, Queue: ['F', 'G', 'C', 'D']\n",
      "Iteration: 3, Queue: ['G', 'C', 'D']\n",
      "Iteration: 4, Queue: ['C', 'D', 'H']\n",
      "Iteration: 5, Queue: ['D', 'H']\n",
      "Iteration: 6, Queue: ['H']\n"
     ]
    }
   ],
   "source": [
    "'''\n",
    "EXAMPLE\n",
    "                A\n",
    "              _/|\\_\n",
    "            _/  |  \\_\n",
    "           /    F   \\\n",
    "          B           G\n",
    "         / \\         /\n",
    "        C   D       H\n",
    "'''\n",
    "A = node('A')\n",
    "B = node('B')\n",
    "C = node('C')\n",
    "D = node('D')\n",
    "E = node('E')\n",
    "F = node('F')\n",
    "G = node('G')\n",
    "H = node('H')\n",
    "A.nabr.append(B)\n",
    "A.nabr.append(F)\n",
    "A.nabr.append(G)\n",
    "B.nabr.append(C)\n",
    "B.nabr.append(D)\n",
    "G.nabr.append(H)\n",
    "breadth_first_search(A)"
   ]
  }
 ],
 "metadata": {
  "kernelspec": {
   "display_name": "Python 3",
   "language": "python",
   "name": "python3"
  },
  "language_info": {
   "codemirror_mode": {
    "name": "ipython",
    "version": 3
   },
   "file_extension": ".py",
   "mimetype": "text/x-python",
   "name": "python",
   "nbconvert_exporter": "python",
   "pygments_lexer": "ipython3",
   "version": "3.8.0"
  }
 },
 "nbformat": 4,
 "nbformat_minor": 5
}
